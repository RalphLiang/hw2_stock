{
  "nbformat": 4,
  "nbformat_minor": 0,
  "metadata": {
    "colab": {
      "name": "StockRNN_梁藝鐘.ipynb",
      "provenance": [],
      "collapsed_sections": []
    },
    "kernelspec": {
      "name": "python3",
      "display_name": "Python 3"
    },
    "accelerator": "GPU"
  },
  "cells": [
    {
      "cell_type": "markdown",
      "metadata": {
        "id": "iRAa8Hh-d4F3"
      },
      "source": [
        "![](https://i.imgur.com/3twMqGw.png)\n",
        "\n",
        "# 作業2 : 股票預測\n",
        "\n",
        "## **請挑選一家公司來做預測**\n",
        "\n",
        "資料集: [鉅亨網](https://www.cnyes.com/)\n",
        "\n",
        "> **資料集說明**\n",
        "\n",
        "別人恐懼我貪婪，一張不賣奇蹟來。\n",
        "\n",
        ">**作業說明**\n",
        "\n",
        "**第一步驟**: 左上角 檔案->在雲端硬碟建立副本。\n",
        "\n",
        "**第二步驟**: 右上角 共用->取得連結->任何知道這個連結的人都能編輯\n",
        "\n",
        "**第三步驟**: 左上角 執行階段->更變執行類型->GPU。 可以加快模型速度\n",
        "\n",
        "**第四步驟**: 檔案名稱，請填寫你的學號，把副本上下引號刪掉\n",
        "\n",
        "請 **隨意修改** 這個colab的程式來完成訓練RNN模型。**不必一定要照著todo提示走。**\n",
        "繳交時記得改檔案標題的學號。\n",
        "\n",
        "這次作業的重點在於RNN的維度問題。\n",
        "\n",
        "> **作業限制**\n",
        "\n",
        "1. 不要動資料集、不要在訓練時偷看test data\n",
        "2. 模型請手刻、手疊，**不要用Transfer Learning**，你可以手刻transformer。\n",
        "3. **不要抄襲**\n",
        "\n",
        "> **作業繳交**\n",
        "\n",
        "1. 完成訓練後保存output結果，更改**檔名學號**，左上角 檔案->下載 成ipynb檔。\n",
        "2. 交一個**pdf**檔，裡面需要附上**你的作業colab連結(設為可編輯、所有人觀看)**、姓名學號年級、過程和執行結果的截圖，並說明你程式撰寫的過程、本次作業心得(字數不限)。\n",
        "3. 上述三個檔案繳交至ee-class。(Text Generation、Stock、PDF)\n",
        "\n",
        "> **繳交期限**\n",
        "\n",
        "1. 電子商務技術(IM5002): 期限至2021/5/5(三) 23:59分\n",
        "2. 人工智慧與機器學習(IM3078): 期限至2021/5/5(三) 23:59分\n",
        "3. 電子商務智慧技術(IMA0200): 期限至2021/5/16(六) 23:59分\n",
        "\n",
        "> **算分標準**\n",
        "\n",
        "Text Generation(30) + Stock RNN(40) + Predict function(20分) + 10分文件\n",
        "1.  [Text Generation](https://colab.research.google.com/drive/1bMkAUaiivMaOr8Sd1Ui-KJeoFImEVUqA?usp=sharing) 換個其他資料集來訓練，完成就30分\n",
        "2. Stock RNN完成模型就40分\n",
        "3. predit function有寫出來就20分(第七段)\n",
        "4. 10分是文件分數\n",
        "5. 記得把以上評分標準截圖、並與你的心得一起貼上pdf\n",
        "\n",
        "有問題再來信助教: lufor129@g.ncu.edu.tw\n",
        "\n",
        "或是每個禮拜一 12:00~14:00到志希館313找助教\n"
      ]
    },
    {
      "cell_type": "code",
      "metadata": {
        "id": "RURvH0RWNsOQ"
      },
      "source": [
        "import os\n",
        "\n",
        "if(os.path.isfile(\"./train.csv\") == False):\n",
        "  !wget -O train.csv \"http://140.115.82.54/NN/Recurrent/train.csv\"\n",
        "  !wget -O test.csv \"http://140.115.82.54/NN/Recurrent/test.csv\""
      ],
      "execution_count": null,
      "outputs": []
    },
    {
      "cell_type": "markdown",
      "metadata": {
        "id": "AopvjZOxYmky"
      },
      "source": [
        "## 1. 讀入Package"
      ]
    },
    {
      "cell_type": "code",
      "metadata": {
        "id": "Z6Z6H5ibOZg0"
      },
      "source": [
        "import tensorflow as tf\n",
        "from tensorflow import keras\n",
        "from tensorflow.keras import layers\n",
        "import numpy as np\n",
        "import matplotlib.pyplot as plt\n",
        "import pandas as pd\n",
        "import os\n",
        "import random\n",
        "import datetime\n",
        "from sklearn.preprocessing import MinMaxScaler"
      ],
      "execution_count": null,
      "outputs": []
    },
    {
      "cell_type": "markdown",
      "metadata": {
        "id": "1yeQBU3aYqzg"
      },
      "source": [
        "## 2. 取得資料集"
      ]
    },
    {
      "cell_type": "code",
      "metadata": {
        "id": "pF1xYGzJOiQJ",
        "colab": {
          "base_uri": "https://localhost:8080/",
          "height": 217
        },
        "outputId": "a6920564-7e53-497c-f41a-0cdb17663dd2"
      },
      "source": [
        "# dataframe extract\n",
        "train_df = pd.read_csv(\"./train.csv\")\n",
        "#print(\"info : \", train_df.info) # same as astype\n",
        "#print(\"shape: \", train_df.shape)\n",
        "train_df = train_df[::-1]\n",
        "# support sort, unique, dropna, fillna ...\n",
        "print(\"company : \",train_df[\"company\"].unique())\n",
        "train_df.head()"
      ],
      "execution_count": null,
      "outputs": [
        {
          "output_type": "stream",
          "text": [
            "company :  [2317 2454 2330]\n"
          ],
          "name": "stdout"
        },
        {
          "output_type": "execute_result",
          "data": {
            "text/html": [
              "<div>\n",
              "<style scoped>\n",
              "    .dataframe tbody tr th:only-of-type {\n",
              "        vertical-align: middle;\n",
              "    }\n",
              "\n",
              "    .dataframe tbody tr th {\n",
              "        vertical-align: top;\n",
              "    }\n",
              "\n",
              "    .dataframe thead th {\n",
              "        text-align: right;\n",
              "    }\n",
              "</style>\n",
              "<table border=\"1\" class=\"dataframe\">\n",
              "  <thead>\n",
              "    <tr style=\"text-align: right;\">\n",
              "      <th></th>\n",
              "      <th>company</th>\n",
              "      <th>date</th>\n",
              "      <th>price</th>\n",
              "    </tr>\n",
              "  </thead>\n",
              "  <tbody>\n",
              "    <tr>\n",
              "      <th>6687</th>\n",
              "      <td>2317</td>\n",
              "      <td>2012/1/2</td>\n",
              "      <td>81.4</td>\n",
              "    </tr>\n",
              "    <tr>\n",
              "      <th>6686</th>\n",
              "      <td>2317</td>\n",
              "      <td>2012/1/3</td>\n",
              "      <td>82.7</td>\n",
              "    </tr>\n",
              "    <tr>\n",
              "      <th>6685</th>\n",
              "      <td>2317</td>\n",
              "      <td>2012/1/4</td>\n",
              "      <td>83.2</td>\n",
              "    </tr>\n",
              "    <tr>\n",
              "      <th>6684</th>\n",
              "      <td>2317</td>\n",
              "      <td>2012/1/5</td>\n",
              "      <td>83.2</td>\n",
              "    </tr>\n",
              "    <tr>\n",
              "      <th>6683</th>\n",
              "      <td>2317</td>\n",
              "      <td>2012/1/6</td>\n",
              "      <td>83.9</td>\n",
              "    </tr>\n",
              "  </tbody>\n",
              "</table>\n",
              "</div>"
            ],
            "text/plain": [
              "      company      date  price\n",
              "6687     2317  2012/1/2   81.4\n",
              "6686     2317  2012/1/3   82.7\n",
              "6685     2317  2012/1/4   83.2\n",
              "6684     2317  2012/1/5   83.2\n",
              "6683     2317  2012/1/6   83.9"
            ]
          },
          "metadata": {
            "tags": []
          },
          "execution_count": 64
        }
      ]
    },
    {
      "cell_type": "code",
      "metadata": {
        "colab": {
          "base_uri": "https://localhost:8080/",
          "height": 217
        },
        "id": "gx0PFFHP3O2d",
        "outputId": "ce342e27-d811-4a08-bc6e-a73d2d936000"
      },
      "source": [
        "test_df = pd.read_csv(\"./test.csv\")\n",
        "test_df = test_df[::-1]\n",
        "print(\"test data shape : \",test_df.shape)\n",
        "test_df.head()"
      ],
      "execution_count": null,
      "outputs": [
        {
          "output_type": "stream",
          "text": [
            "test data shape :  (117, 3)\n"
          ],
          "name": "stdout"
        },
        {
          "output_type": "execute_result",
          "data": {
            "text/html": [
              "<div>\n",
              "<style scoped>\n",
              "    .dataframe tbody tr th:only-of-type {\n",
              "        vertical-align: middle;\n",
              "    }\n",
              "\n",
              "    .dataframe tbody tr th {\n",
              "        vertical-align: top;\n",
              "    }\n",
              "\n",
              "    .dataframe thead th {\n",
              "        text-align: right;\n",
              "    }\n",
              "</style>\n",
              "<table border=\"1\" class=\"dataframe\">\n",
              "  <thead>\n",
              "    <tr style=\"text-align: right;\">\n",
              "      <th></th>\n",
              "      <th>company</th>\n",
              "      <th>date</th>\n",
              "      <th>price</th>\n",
              "    </tr>\n",
              "  </thead>\n",
              "  <tbody>\n",
              "    <tr>\n",
              "      <th>116</th>\n",
              "      <td>2317</td>\n",
              "      <td>2021/2/1</td>\n",
              "      <td>113.0</td>\n",
              "    </tr>\n",
              "    <tr>\n",
              "      <th>115</th>\n",
              "      <td>2317</td>\n",
              "      <td>2021/2/2</td>\n",
              "      <td>116.5</td>\n",
              "    </tr>\n",
              "    <tr>\n",
              "      <th>114</th>\n",
              "      <td>2317</td>\n",
              "      <td>2021/2/3</td>\n",
              "      <td>116.5</td>\n",
              "    </tr>\n",
              "    <tr>\n",
              "      <th>113</th>\n",
              "      <td>2317</td>\n",
              "      <td>2021/2/4</td>\n",
              "      <td>114.0</td>\n",
              "    </tr>\n",
              "    <tr>\n",
              "      <th>112</th>\n",
              "      <td>2317</td>\n",
              "      <td>2021/2/5</td>\n",
              "      <td>113.5</td>\n",
              "    </tr>\n",
              "  </tbody>\n",
              "</table>\n",
              "</div>"
            ],
            "text/plain": [
              "     company      date  price\n",
              "116     2317  2021/2/1  113.0\n",
              "115     2317  2021/2/2  116.5\n",
              "114     2317  2021/2/3  116.5\n",
              "113     2317  2021/2/4  114.0\n",
              "112     2317  2021/2/5  113.5"
            ]
          },
          "metadata": {
            "tags": []
          },
          "execution_count": 65
        }
      ]
    },
    {
      "cell_type": "code",
      "metadata": {
        "id": "d4qpw9ZaOkIq"
      },
      "source": [
        "####################################\n",
        "#                  #\n",
        "# 自己決定三家公司哪家公司(填數字)#\n",
        "# 挑選一家公司來做訓練、預測   #\n",
        "#                  #\n",
        "#                  #\n",
        "####################################\n",
        "# dictionary\n",
        "companys = {\"2330\":\"TSMC\",\"2454\":\"MEDIATEK\",\"2317\":\"FOXCONN\"}\n",
        "# todo define company_id\n",
        "company_id = 2317"
      ],
      "execution_count": null,
      "outputs": []
    },
    {
      "cell_type": "code",
      "metadata": {
        "id": "6Qkjc3kHOoD8",
        "colab": {
          "base_uri": "https://localhost:8080/",
          "height": 228
        },
        "outputId": "2ffe60e2-b35a-478e-c8e3-147dfd081655"
      },
      "source": [
        "company = train_df[train_df[\"company\"] == company_id]\n",
        "# 將index 轉成 使用 date\n",
        "company.index = company[\"date\"]\n",
        "company.head()\n",
        "#print(\"info : \", company.info) "
      ],
      "execution_count": null,
      "outputs": [
        {
          "output_type": "execute_result",
          "data": {
            "text/html": [
              "<div>\n",
              "<style scoped>\n",
              "    .dataframe tbody tr th:only-of-type {\n",
              "        vertical-align: middle;\n",
              "    }\n",
              "\n",
              "    .dataframe tbody tr th {\n",
              "        vertical-align: top;\n",
              "    }\n",
              "\n",
              "    .dataframe thead th {\n",
              "        text-align: right;\n",
              "    }\n",
              "</style>\n",
              "<table border=\"1\" class=\"dataframe\">\n",
              "  <thead>\n",
              "    <tr style=\"text-align: right;\">\n",
              "      <th></th>\n",
              "      <th>company</th>\n",
              "      <th>date</th>\n",
              "      <th>price</th>\n",
              "    </tr>\n",
              "    <tr>\n",
              "      <th>date</th>\n",
              "      <th></th>\n",
              "      <th></th>\n",
              "      <th></th>\n",
              "    </tr>\n",
              "  </thead>\n",
              "  <tbody>\n",
              "    <tr>\n",
              "      <th>2012/1/2</th>\n",
              "      <td>2317</td>\n",
              "      <td>2012/1/2</td>\n",
              "      <td>81.4</td>\n",
              "    </tr>\n",
              "    <tr>\n",
              "      <th>2012/1/3</th>\n",
              "      <td>2317</td>\n",
              "      <td>2012/1/3</td>\n",
              "      <td>82.7</td>\n",
              "    </tr>\n",
              "    <tr>\n",
              "      <th>2012/1/4</th>\n",
              "      <td>2317</td>\n",
              "      <td>2012/1/4</td>\n",
              "      <td>83.2</td>\n",
              "    </tr>\n",
              "    <tr>\n",
              "      <th>2012/1/5</th>\n",
              "      <td>2317</td>\n",
              "      <td>2012/1/5</td>\n",
              "      <td>83.2</td>\n",
              "    </tr>\n",
              "    <tr>\n",
              "      <th>2012/1/6</th>\n",
              "      <td>2317</td>\n",
              "      <td>2012/1/6</td>\n",
              "      <td>83.9</td>\n",
              "    </tr>\n",
              "  </tbody>\n",
              "</table>\n",
              "</div>"
            ],
            "text/plain": [
              "          company      date  price\n",
              "date                              \n",
              "2012/1/2     2317  2012/1/2   81.4\n",
              "2012/1/3     2317  2012/1/3   82.7\n",
              "2012/1/4     2317  2012/1/4   83.2\n",
              "2012/1/5     2317  2012/1/5   83.2\n",
              "2012/1/6     2317  2012/1/6   83.9"
            ]
          },
          "metadata": {
            "tags": []
          },
          "execution_count": 67
        }
      ]
    },
    {
      "cell_type": "code",
      "metadata": {
        "id": "LacIURDSOos0"
      },
      "source": [
        "def include_last_iter(start,end,step):\n",
        "  i = start\n",
        "  while i < end:\n",
        "      yield i\n",
        "      i += step\n",
        "  yield end-1"
      ],
      "execution_count": null,
      "outputs": []
    },
    {
      "cell_type": "code",
      "metadata": {
        "colab": {
          "base_uri": "https://localhost:8080/",
          "height": 537
        },
        "id": "ztReqaKGOpjl",
        "outputId": "6a8b7e63-5544-4886-9618-a74fc4ee1515"
      },
      "source": [
        "plt.figure(figsize=(16, 8))\n",
        "plt.subplots_adjust(hspace=0.5)\n",
        "for index,c in enumerate(companys):\n",
        "  plt.subplot(2,2,index+1)\n",
        "  company_df = train_df[train_df[\"company\"] == int(c)]\n",
        "  plt.plot(company_df[\"date\"],company_df[\"price\"])\n",
        "  plt.xticks(list(include_last_iter(0,company_df.shape[0],250)),rotation=30)\n",
        "  plt.title(c + \" - \" + companys[c])\n",
        "  plt.xlabel(\"Date\")\n",
        "  plt.ylabel(\"price\")\n",
        "    \n",
        "plt.show()"
      ],
      "execution_count": null,
      "outputs": [
        {
          "output_type": "display_data",
          "data": {
            "image/png": "[encoded data removed]",
            "text/plain": [
              "<Figure size 1152x576 with 3 Axes>"
            ]
          },
          "metadata": {
            "tags": [],
            "needs_background": "light"
          }
        }
      ]
    },
    {
      "cell_type": "markdown",
      "metadata": {
        "id": "o-fbgns7YudB"
      },
      "source": [
        "## 3. 資料前處理"
      ]
    },
    {
      "cell_type": "code",
      "metadata": {
        "colab": {
          "base_uri": "https://localhost:8080/"
        },
        "id": "sg8bkUoMOsxG",
        "outputId": "4b291465-ca4a-4f79-b899-959d4f491c47"
      },
      "source": [
        "# 切分training data & validation data\n",
        "total_len = company.shape[0]\n",
        "training_len = 2100 #int(total_len*0.9)\n",
        "validation_data = total_len - training_len\n",
        "\n",
        "print(\"總共有 : \",total_len,\"筆\")\n",
        "print(\"訓練用 : (前)\",training_len,\"筆\")\n",
        "print(\"驗證用 : (後)\",validation_data,\"筆\")"
      ],
      "execution_count": null,
      "outputs": [
        {
          "output_type": "stream",
          "text": [
            "總共有 :  2225 筆\n",
            "訓練用 : (前) 2100 筆\n",
            "驗證用 : (後) 125 筆\n"
          ],
          "name": "stdout"
        }
      ]
    },
    {
      "cell_type": "code",
      "metadata": {
        "id": "ndsIf36gW0Wl"
      },
      "source": [
        "# 自己做 MinMax Transformer 前處理 \n",
        "class MinMaxTransformer:\n",
        "  def __init__(self):\n",
        "    self.min = None\n",
        "    self.max = None\n",
        "    self.distance = None\n",
        "\n",
        "  def fit(self,data):\n",
        "    self.min = min(data)\n",
        "    self.max = max(data)\n",
        "    self.distance = self.max - self.min\n",
        "    out = [(d-self.min)/self.distance for d in data]\n",
        "    return out\n",
        "\n",
        "  def recover(self,data):\n",
        "    out = [d*self.distance+self.min for d in data]\n",
        "    return out\n",
        "\n",
        "  def transform(self,data):\n",
        "    out = [(d-self.min)/self.distance for d in data]\n",
        "    return out\n",
        "\n",
        "  def transform_one(self,data):\n",
        "    return (data-self.min)/self.distance"
      ],
      "execution_count": null,
      "outputs": []
    },
    {
      "cell_type": "code",
      "metadata": {
        "id": "urZjG_kDOuTP"
      },
      "source": [
        "# ndarray\n",
        "train_prices = company[\"price\"].values\n",
        "scalar = MinMaxTransformer()\n",
        "# list\n",
        "scalar_data = scalar.fit(train_prices)"
      ],
      "execution_count": null,
      "outputs": []
    },
    {
      "cell_type": "code",
      "metadata": {
        "colab": {
          "base_uri": "https://localhost:8080/"
        },
        "id": "vRXJt6sWizwT",
        "outputId": "1ff15fa4-3500-463b-8b08-3fa9b7d6149b"
      },
      "source": [
        "# 做正規化\n",
        "print(\"origin data : \",train_prices[:5])\n",
        "print(\"transform data : \",scalar_data[:5])\n",
        "print(\"recover data : \",scalar.recover(scalar_data[:5]))"
      ],
      "execution_count": null,
      "outputs": [
        {
          "output_type": "stream",
          "text": [
            "origin data :  [81.4 82.7 83.2 83.2 83.9]\n",
            "transform data :  [0.2663139329805998, 0.289241622574956, 0.2980599647266315, 0.2980599647266315, 0.3104056437389772]\n",
            "recover data :  [81.4, 82.7, 83.2, 83.2, 83.9]\n"
          ],
          "name": "stdout"
        }
      ]
    },
    {
      "cell_type": "code",
      "metadata": {
        "id": "Jcwp01DcVyCv"
      },
      "source": [
        "# 切分資料集, list\n",
        "training_data = scalar_data[:training_len]\n",
        "validation_data = scalar_data[training_len:]"
      ],
      "execution_count": null,
      "outputs": []
    },
    {
      "cell_type": "code",
      "metadata": {
        "id": "OGbPWD0bVT3j"
      },
      "source": [
        "# todo 決定Seq長度\n",
        "seq_len = 5\n",
        "\n",
        "def split_input_target(seq):\n",
        "  input_txt = tf.expand_dims(seq[:-1],-1)\n",
        "  target_txt = tf.expand_dims(seq[1:],-1)\n",
        "  return input_txt,target_txt"
      ],
      "execution_count": null,
      "outputs": []
    },
    {
      "cell_type": "code",
      "metadata": {
        "id": "HP47J0uvVcix"
      },
      "source": [
        "def make_ds(data):\n",
        "  # TesorSliceDataset\n",
        "  data_slice = tf.data.Dataset.from_tensor_slices(data)\n",
        "  # BatchDataset, 依據 seq_len+1 拆解 Dataset\n",
        "  data_sequence = data_slice.batch(seq_len+1,drop_remainder=True)\n",
        "  \n",
        "  dataset = data_sequence.map(split_input_target)\n",
        "  return dataset"
      ],
      "execution_count": null,
      "outputs": []
    },
    {
      "cell_type": "code",
      "metadata": {
        "id": "5ahh3yHx8f4u",
        "colab": {
          "base_uri": "https://localhost:8080/"
        },
        "outputId": "abfb408b-de6a-41cd-e5b7-6f7203ab4403"
      },
      "source": [
        "# 製作資料集\n",
        "# convert list to MapDataset\n",
        "train_ds = make_ds(training_data)\n",
        "val_ds = make_ds(validation_data)\n",
        "\n",
        "for input_example,target_example in train_ds.take(1):\n",
        "  print(\"Input :\", scalar.recover(input_example.numpy()))\n",
        "  print(\"Target:\", scalar.recover(target_example.numpy()))\n",
        "  print(\"-\"*50)\n",
        "  print(\"Input :\", input_example.numpy())\n",
        "  print(\"Target:\", target_example.numpy())"
      ],
      "execution_count": null,
      "outputs": [
        {
          "output_type": "stream",
          "text": [
            "Input : [array([81.4]), array([82.7]), array([83.2]), array([83.2]), array([83.9])]\n",
            "Target: [array([82.7]), array([83.2]), array([83.2]), array([83.9]), array([84.3])]\n",
            "--------------------------------------------------\n",
            "Input : [[0.26631393]\n",
            " [0.28924162]\n",
            " [0.29805996]\n",
            " [0.29805996]\n",
            " [0.31040564]]\n",
            "Target: [[0.28924162]\n",
            " [0.29805996]\n",
            " [0.29805996]\n",
            " [0.31040564]\n",
            " [0.31746032]]\n"
          ],
          "name": "stdout"
        }
      ]
    },
    {
      "cell_type": "code",
      "metadata": {
        "id": "xfilEwW9843h"
      },
      "source": [
        "# Batch size\n",
        "# todo 決定Batch大小\n",
        "BATCH_SIZE = 16\n",
        "\n",
        "BUFFER_SIZE = training_len\n",
        "# 除以 BATCH_SIZE\n",
        "train_ds = train_ds.shuffle(BUFFER_SIZE).batch(BATCH_SIZE)\n",
        "val_ds = val_ds.batch(BATCH_SIZE)"
      ],
      "execution_count": null,
      "outputs": []
    },
    {
      "cell_type": "markdown",
      "metadata": {
        "id": "SSlabzCtaG3Y"
      },
      "source": [
        "## 4. 建立模型\n",
        "\n",
        "提示: Output是一個數值，所以Model output維度為1。\n",
        "\n",
        "* 輸入維度應為: (batch,seq_len,1)\n",
        "\n",
        "* 輸出維度應為: (batch,seq_len,1)\n",
        "\n",
        "**最後一層Dense不要加上任何activation function。**\n"
      ]
    },
    {
      "cell_type": "code",
      "metadata": {
        "id": "JJ-76DoZ9FG2",
        "colab": {
          "base_uri": "https://localhost:8080/"
        },
        "outputId": "1f0dac00-fdae-4377-ecc5-e1c173453a3e"
      },
      "source": [
        "# todo\n",
        "from keras.models import Sequential\n",
        "from keras.layers import Dense\n",
        "from keras.layers import LSTM\n",
        "from keras.layers import Dropout,BatchNormalization\n",
        "\n",
        "print(\"train_ds: \", train_ds)\n",
        "\n",
        "input_shape = (seq_len,1)\n",
        "\n",
        "model = tf.keras.Sequential()\n",
        "\n",
        "model.add(\n",
        "  tf.keras.layers.LSTM(\n",
        "    units=80,\n",
        "    return_sequences = True, \n",
        "    input_shape = input_shape \n",
        "))\n",
        "model.add(Dropout(0.2))\n",
        "\n",
        "model.add(LSTM(units = 80, return_sequences = True))\n",
        "model.add(Dropout(0.2))\n",
        "\n",
        "model.add(LSTM(units = 80, return_sequences = True))\n",
        "model.add(Dropout(0.2))\n",
        "\n",
        "model.add(LSTM(units = 80, return_sequences = True))\n",
        "model.add(Dropout(0.2))\n",
        "\n",
        "model.add(\n",
        "  tf.keras.layers.Dense(units = 1))\n",
        "\n",
        "model.summary()"
      ],
      "execution_count": null,
      "outputs": [
        {
          "output_type": "stream",
          "text": [
            "train_ds:  <BatchDataset shapes: ((None, 5, 1), (None, 5, 1)), types: (tf.float64, tf.float64)>\n",
            "Model: \"sequential_4\"\n",
            "_________________________________________________________________\n",
            "Layer (type)                 Output Shape              Param #   \n",
            "=================================================================\n",
            "lstm_16 (LSTM)               (None, 5, 80)             26240     \n",
            "_________________________________________________________________\n",
            "dropout_16 (Dropout)         (None, 5, 80)             0         \n",
            "_________________________________________________________________\n",
            "lstm_17 (LSTM)               (None, 5, 80)             51520     \n",
            "_________________________________________________________________\n",
            "dropout_17 (Dropout)         (None, 5, 80)             0         \n",
            "_________________________________________________________________\n",
            "lstm_18 (LSTM)               (None, 5, 80)             51520     \n",
            "_________________________________________________________________\n",
            "dropout_18 (Dropout)         (None, 5, 80)             0         \n",
            "_________________________________________________________________\n",
            "lstm_19 (LSTM)               (None, 5, 80)             51520     \n",
            "_________________________________________________________________\n",
            "dropout_19 (Dropout)         (None, 5, 80)             0         \n",
            "_________________________________________________________________\n",
            "dense_4 (Dense)              (None, 5, 1)              81        \n",
            "=================================================================\n",
            "Total params: 180,881\n",
            "Trainable params: 180,881\n",
            "Non-trainable params: 0\n",
            "_________________________________________________________________\n"
          ],
          "name": "stdout"
        }
      ]
    },
    {
      "cell_type": "markdown",
      "metadata": {
        "id": "bsa9LxCcaJxN"
      },
      "source": [
        "## 5. 制定訓練計畫並訓練\n",
        "\n",
        "我們做數字相關預測，可以考慮用Mean_Squared_Error\n",
        "\n",
        "公式:\n",
        "$$MSE = \\frac{1}{n} \\sum_{i=1}^N({\\gamma-\\hat{\\gamma}})^2$$\n",
        "\n",
        "\n",
        "提示:\n",
        "不用管公式在幹嘛，compile帶入mean_squared_error。"
      ]
    },
    {
      "cell_type": "code",
      "metadata": {
        "id": "SIBlVYai-ZuU",
        "colab": {
          "base_uri": "https://localhost:8080/"
        },
        "outputId": "4fccf009-5388-4f15-8731-a13b7f1bdd22"
      },
      "source": [
        "# todo\n",
        "epochs = 100\n",
        "\n",
        "# todo\n",
        "# model.compile\n",
        "model.compile(optimizer = 'adam', loss = 'mean_squared_error')\n",
        "\n",
        "# todo\n",
        "history=model.fit(train_ds, validation_data = val_ds ,epochs = epochs, batch_size = BATCH_SIZE )"
      ],
      "execution_count": null,
      "outputs": [
        {
          "output_type": "stream",
          "text": [
            "Epoch 1/100\n",
            "22/22 [==============================] - 6s 60ms/step - loss: 0.1443 - val_loss: 0.0496\n",
            "Epoch 2/100\n",
            "22/22 [==============================] - 0s 8ms/step - loss: 0.0634 - val_loss: 0.0388\n",
            "Epoch 3/100\n",
            "22/22 [==============================] - 0s 9ms/step - loss: 0.0398 - val_loss: 0.0202\n",
            "Epoch 4/100\n",
            "22/22 [==============================] - 0s 9ms/step - loss: 0.0233 - val_loss: 0.0143\n",
            "Epoch 5/100\n",
            "22/22 [==============================] - 0s 8ms/step - loss: 0.0164 - val_loss: 0.0114\n",
            "Epoch 6/100\n",
            "22/22 [==============================] - 0s 8ms/step - loss: 0.0113 - val_loss: 0.0082\n",
            "Epoch 7/100\n",
            "22/22 [==============================] - 0s 8ms/step - loss: 0.0081 - val_loss: 0.0057\n",
            "Epoch 8/100\n",
            "22/22 [==============================] - 0s 8ms/step - loss: 0.0053 - val_loss: 0.0034\n",
            "Epoch 9/100\n",
            "22/22 [==============================] - 0s 9ms/step - loss: 0.0032 - val_loss: 0.0020\n",
            "Epoch 10/100\n",
            "22/22 [==============================] - 0s 8ms/step - loss: 0.0022 - val_loss: 0.0023\n",
            "Epoch 11/100\n",
            "22/22 [==============================] - 0s 8ms/step - loss: 0.0026 - val_loss: 0.0014\n",
            "Epoch 12/100\n",
            "22/22 [==============================] - 0s 9ms/step - loss: 0.0019 - val_loss: 0.0013\n",
            "Epoch 13/100\n",
            "22/22 [==============================] - 0s 9ms/step - loss: 0.0019 - val_loss: 0.0012\n",
            "Epoch 14/100\n",
            "22/22 [==============================] - 0s 8ms/step - loss: 0.0020 - val_loss: 0.0012\n",
            "Epoch 15/100\n",
            "22/22 [==============================] - 0s 8ms/step - loss: 0.0019 - val_loss: 0.0014\n",
            "Epoch 16/100\n",
            "22/22 [==============================] - 0s 8ms/step - loss: 0.0018 - val_loss: 0.0015\n",
            "Epoch 17/100\n",
            "22/22 [==============================] - 0s 8ms/step - loss: 0.0015 - val_loss: 0.0014\n",
            "Epoch 18/100\n",
            "22/22 [==============================] - 0s 9ms/step - loss: 0.0018 - val_loss: 0.0013\n",
            "Epoch 19/100\n",
            "22/22 [==============================] - 0s 8ms/step - loss: 0.0016 - val_loss: 0.0010\n",
            "Epoch 20/100\n",
            "22/22 [==============================] - 0s 9ms/step - loss: 0.0015 - val_loss: 0.0010\n",
            "Epoch 21/100\n",
            "22/22 [==============================] - 0s 9ms/step - loss: 0.0015 - val_loss: 0.0012\n",
            "Epoch 22/100\n",
            "22/22 [==============================] - 0s 8ms/step - loss: 0.0015 - val_loss: 0.0013\n",
            "Epoch 23/100\n",
            "22/22 [==============================] - 0s 9ms/step - loss: 0.0016 - val_loss: 0.0011\n",
            "Epoch 24/100\n",
            "22/22 [==============================] - 0s 9ms/step - loss: 0.0016 - val_loss: 0.0012\n",
            "Epoch 25/100\n",
            "22/22 [==============================] - 0s 9ms/step - loss: 0.0014 - val_loss: 0.0011\n",
            "Epoch 26/100\n",
            "22/22 [==============================] - 0s 10ms/step - loss: 0.0015 - val_loss: 0.0014\n",
            "Epoch 27/100\n",
            "22/22 [==============================] - 0s 9ms/step - loss: 0.0015 - val_loss: 0.0014\n",
            "Epoch 28/100\n",
            "22/22 [==============================] - 0s 9ms/step - loss: 0.0015 - val_loss: 0.0011\n",
            "Epoch 29/100\n",
            "22/22 [==============================] - 0s 8ms/step - loss: 0.0013 - val_loss: 0.0012\n",
            "Epoch 30/100\n",
            "22/22 [==============================] - 0s 8ms/step - loss: 0.0015 - val_loss: 9.3615e-04\n",
            "Epoch 31/100\n",
            "22/22 [==============================] - 0s 8ms/step - loss: 0.0013 - val_loss: 0.0012\n",
            "Epoch 32/100\n",
            "22/22 [==============================] - 0s 9ms/step - loss: 0.0014 - val_loss: 9.4374e-04\n",
            "Epoch 33/100\n",
            "22/22 [==============================] - 0s 9ms/step - loss: 0.0014 - val_loss: 0.0011\n",
            "Epoch 34/100\n",
            "22/22 [==============================] - 0s 9ms/step - loss: 0.0013 - val_loss: 0.0012\n",
            "Epoch 35/100\n",
            "22/22 [==============================] - 0s 9ms/step - loss: 0.0014 - val_loss: 0.0018\n",
            "Epoch 36/100\n",
            "22/22 [==============================] - 0s 9ms/step - loss: 0.0014 - val_loss: 0.0010\n",
            "Epoch 37/100\n",
            "22/22 [==============================] - 0s 9ms/step - loss: 0.0014 - val_loss: 0.0014\n",
            "Epoch 38/100\n",
            "22/22 [==============================] - 0s 9ms/step - loss: 0.0015 - val_loss: 0.0013\n",
            "Epoch 39/100\n",
            "22/22 [==============================] - 0s 9ms/step - loss: 0.0012 - val_loss: 0.0011\n",
            "Epoch 40/100\n",
            "22/22 [==============================] - 0s 9ms/step - loss: 0.0015 - val_loss: 9.8494e-04\n",
            "Epoch 41/100\n",
            "22/22 [==============================] - 0s 9ms/step - loss: 0.0012 - val_loss: 0.0010\n",
            "Epoch 42/100\n",
            "22/22 [==============================] - 0s 9ms/step - loss: 0.0013 - val_loss: 0.0013\n",
            "Epoch 43/100\n",
            "22/22 [==============================] - 0s 10ms/step - loss: 0.0014 - val_loss: 0.0011\n",
            "Epoch 44/100\n",
            "22/22 [==============================] - 0s 9ms/step - loss: 0.0015 - val_loss: 0.0016\n",
            "Epoch 45/100\n",
            "22/22 [==============================] - 0s 8ms/step - loss: 0.0014 - val_loss: 0.0017\n",
            "Epoch 46/100\n",
            "22/22 [==============================] - 0s 9ms/step - loss: 0.0014 - val_loss: 0.0011\n",
            "Epoch 47/100\n",
            "22/22 [==============================] - 0s 9ms/step - loss: 0.0012 - val_loss: 0.0011\n",
            "Epoch 48/100\n",
            "22/22 [==============================] - 0s 9ms/step - loss: 0.0014 - val_loss: 0.0010\n",
            "Epoch 49/100\n",
            "22/22 [==============================] - 0s 9ms/step - loss: 0.0014 - val_loss: 0.0013\n",
            "Epoch 50/100\n",
            "22/22 [==============================] - 0s 9ms/step - loss: 0.0013 - val_loss: 9.5624e-04\n",
            "Epoch 51/100\n",
            "22/22 [==============================] - 0s 9ms/step - loss: 0.0014 - val_loss: 0.0012\n",
            "Epoch 52/100\n",
            "22/22 [==============================] - 0s 9ms/step - loss: 0.0013 - val_loss: 0.0013\n",
            "Epoch 53/100\n",
            "22/22 [==============================] - 0s 8ms/step - loss: 0.0014 - val_loss: 0.0011\n",
            "Epoch 54/100\n",
            "22/22 [==============================] - 0s 8ms/step - loss: 0.0012 - val_loss: 9.4754e-04\n",
            "Epoch 55/100\n",
            "22/22 [==============================] - 0s 9ms/step - loss: 0.0014 - val_loss: 0.0012\n",
            "Epoch 56/100\n",
            "22/22 [==============================] - 0s 8ms/step - loss: 0.0015 - val_loss: 9.6683e-04\n",
            "Epoch 57/100\n",
            "22/22 [==============================] - 0s 9ms/step - loss: 0.0014 - val_loss: 0.0010\n",
            "Epoch 58/100\n",
            "22/22 [==============================] - 0s 9ms/step - loss: 0.0014 - val_loss: 9.1855e-04\n",
            "Epoch 59/100\n",
            "22/22 [==============================] - 0s 9ms/step - loss: 0.0013 - val_loss: 0.0011\n",
            "Epoch 60/100\n",
            "22/22 [==============================] - 0s 9ms/step - loss: 0.0014 - val_loss: 0.0015\n",
            "Epoch 61/100\n",
            "22/22 [==============================] - 0s 9ms/step - loss: 0.0016 - val_loss: 0.0016\n",
            "Epoch 62/100\n",
            "22/22 [==============================] - 0s 8ms/step - loss: 0.0013 - val_loss: 0.0017\n",
            "Epoch 63/100\n",
            "22/22 [==============================] - 0s 9ms/step - loss: 0.0016 - val_loss: 0.0016\n",
            "Epoch 64/100\n",
            "22/22 [==============================] - 0s 10ms/step - loss: 0.0014 - val_loss: 0.0012\n",
            "Epoch 65/100\n",
            "22/22 [==============================] - 0s 9ms/step - loss: 0.0013 - val_loss: 0.0015\n",
            "Epoch 66/100\n",
            "22/22 [==============================] - 0s 9ms/step - loss: 0.0012 - val_loss: 0.0013\n",
            "Epoch 67/100\n",
            "22/22 [==============================] - 0s 8ms/step - loss: 0.0013 - val_loss: 0.0012\n",
            "Epoch 68/100\n",
            "22/22 [==============================] - 0s 8ms/step - loss: 0.0012 - val_loss: 9.4601e-04\n",
            "Epoch 69/100\n",
            "22/22 [==============================] - 0s 9ms/step - loss: 0.0014 - val_loss: 9.8495e-04\n",
            "Epoch 70/100\n",
            "22/22 [==============================] - 0s 9ms/step - loss: 0.0011 - val_loss: 0.0010\n",
            "Epoch 71/100\n",
            "22/22 [==============================] - 0s 9ms/step - loss: 0.0013 - val_loss: 0.0014\n",
            "Epoch 72/100\n",
            "22/22 [==============================] - 0s 8ms/step - loss: 0.0012 - val_loss: 0.0012\n",
            "Epoch 73/100\n",
            "22/22 [==============================] - 0s 8ms/step - loss: 0.0012 - val_loss: 0.0011\n",
            "Epoch 74/100\n",
            "22/22 [==============================] - 0s 9ms/step - loss: 0.0012 - val_loss: 0.0012\n",
            "Epoch 75/100\n",
            "22/22 [==============================] - 0s 9ms/step - loss: 0.0012 - val_loss: 0.0011\n",
            "Epoch 76/100\n",
            "22/22 [==============================] - 0s 8ms/step - loss: 0.0014 - val_loss: 0.0010\n",
            "Epoch 77/100\n",
            "22/22 [==============================] - 0s 8ms/step - loss: 0.0010 - val_loss: 9.8592e-04\n",
            "Epoch 78/100\n",
            "22/22 [==============================] - 0s 9ms/step - loss: 0.0012 - val_loss: 0.0012\n",
            "Epoch 79/100\n",
            "22/22 [==============================] - 0s 9ms/step - loss: 0.0011 - val_loss: 9.9067e-04\n",
            "Epoch 80/100\n",
            "22/22 [==============================] - 0s 9ms/step - loss: 0.0013 - val_loss: 0.0013\n",
            "Epoch 81/100\n",
            "22/22 [==============================] - 0s 9ms/step - loss: 0.0012 - val_loss: 0.0011\n",
            "Epoch 82/100\n",
            "22/22 [==============================] - 0s 9ms/step - loss: 0.0013 - val_loss: 0.0013\n",
            "Epoch 83/100\n",
            "22/22 [==============================] - 0s 9ms/step - loss: 0.0012 - val_loss: 0.0019\n",
            "Epoch 84/100\n",
            "22/22 [==============================] - 0s 9ms/step - loss: 0.0013 - val_loss: 0.0013\n",
            "Epoch 85/100\n",
            "22/22 [==============================] - 0s 9ms/step - loss: 0.0012 - val_loss: 8.7697e-04\n",
            "Epoch 86/100\n",
            "22/22 [==============================] - 0s 9ms/step - loss: 0.0012 - val_loss: 0.0010\n",
            "Epoch 87/100\n",
            "22/22 [==============================] - 0s 9ms/step - loss: 0.0011 - val_loss: 0.0011\n",
            "Epoch 88/100\n",
            "22/22 [==============================] - 0s 9ms/step - loss: 0.0013 - val_loss: 0.0012\n",
            "Epoch 89/100\n",
            "22/22 [==============================] - 0s 9ms/step - loss: 0.0012 - val_loss: 9.9063e-04\n",
            "Epoch 90/100\n",
            "22/22 [==============================] - 0s 9ms/step - loss: 0.0012 - val_loss: 0.0010\n",
            "Epoch 91/100\n",
            "22/22 [==============================] - 0s 9ms/step - loss: 0.0012 - val_loss: 0.0013\n",
            "Epoch 92/100\n",
            "22/22 [==============================] - 0s 9ms/step - loss: 0.0012 - val_loss: 0.0011\n",
            "Epoch 93/100\n",
            "22/22 [==============================] - 0s 9ms/step - loss: 0.0011 - val_loss: 0.0013\n",
            "Epoch 94/100\n",
            "22/22 [==============================] - 0s 9ms/step - loss: 0.0014 - val_loss: 8.9825e-04\n",
            "Epoch 95/100\n",
            "22/22 [==============================] - 0s 9ms/step - loss: 0.0012 - val_loss: 9.6691e-04\n",
            "Epoch 96/100\n",
            "22/22 [==============================] - 0s 9ms/step - loss: 0.0014 - val_loss: 9.4025e-04\n",
            "Epoch 97/100\n",
            "22/22 [==============================] - 0s 9ms/step - loss: 0.0011 - val_loss: 9.5034e-04\n",
            "Epoch 98/100\n",
            "22/22 [==============================] - 0s 9ms/step - loss: 0.0012 - val_loss: 9.7727e-04\n",
            "Epoch 99/100\n",
            "22/22 [==============================] - 0s 9ms/step - loss: 0.0012 - val_loss: 0.0011\n",
            "Epoch 100/100\n",
            "22/22 [==============================] - 0s 9ms/step - loss: 0.0011 - val_loss: 0.0011\n"
          ],
          "name": "stdout"
        }
      ]
    },
    {
      "cell_type": "markdown",
      "metadata": {
        "id": "4fLe9uGZaMBJ"
      },
      "source": [
        "## 6. 評估模型"
      ]
    },
    {
      "cell_type": "code",
      "metadata": {
        "id": "j3T68McvCkcl",
        "colab": {
          "base_uri": "https://localhost:8080/",
          "height": 295
        },
        "outputId": "c2b8cb9a-a25d-4dd3-ccb9-d7fb043dd762"
      },
      "source": [
        "l1, = plt.plot(history.history['loss'])\n",
        "l2, = plt.plot(history.history['val_loss'])\n",
        "plt.legend(handles=[l1,l2],labels=['loss','val_loss'],loc='best')\n",
        "plt.title('model loss')\n",
        "plt.ylabel('loss')\n",
        "plt.xlabel('epoch')\n",
        "\n",
        "plt.show()"
      ],
      "execution_count": null,
      "outputs": [
        {
          "output_type": "display_data",
          "data": {
            "image/png": "[encoded data removed]",
            "text/plain": [
              "<Figure size 432x288 with 1 Axes>"
            ]
          },
          "metadata": {
            "tags": [],
            "needs_background": "light"
          }
        }
      ]
    },
    {
      "cell_type": "code",
      "metadata": {
        "id": "CUoUTu8KC_Sq",
        "colab": {
          "base_uri": "https://localhost:8080/",
          "height": 198
        },
        "outputId": "c6afe167-6712-48a2-dc9c-1dffb5d5861d"
      },
      "source": [
        "test_company = test_df[test_df[\"company\"] == company_id]\n",
        "test_company.head()"
      ],
      "execution_count": null,
      "outputs": [
        {
          "output_type": "execute_result",
          "data": {
            "text/html": [
              "<div>\n",
              "<style scoped>\n",
              "    .dataframe tbody tr th:only-of-type {\n",
              "        vertical-align: middle;\n",
              "    }\n",
              "\n",
              "    .dataframe tbody tr th {\n",
              "        vertical-align: top;\n",
              "    }\n",
              "\n",
              "    .dataframe thead th {\n",
              "        text-align: right;\n",
              "    }\n",
              "</style>\n",
              "<table border=\"1\" class=\"dataframe\">\n",
              "  <thead>\n",
              "    <tr style=\"text-align: right;\">\n",
              "      <th></th>\n",
              "      <th>company</th>\n",
              "      <th>date</th>\n",
              "      <th>price</th>\n",
              "    </tr>\n",
              "  </thead>\n",
              "  <tbody>\n",
              "    <tr>\n",
              "      <th>116</th>\n",
              "      <td>2317</td>\n",
              "      <td>2021/2/1</td>\n",
              "      <td>113.0</td>\n",
              "    </tr>\n",
              "    <tr>\n",
              "      <th>115</th>\n",
              "      <td>2317</td>\n",
              "      <td>2021/2/2</td>\n",
              "      <td>116.5</td>\n",
              "    </tr>\n",
              "    <tr>\n",
              "      <th>114</th>\n",
              "      <td>2317</td>\n",
              "      <td>2021/2/3</td>\n",
              "      <td>116.5</td>\n",
              "    </tr>\n",
              "    <tr>\n",
              "      <th>113</th>\n",
              "      <td>2317</td>\n",
              "      <td>2021/2/4</td>\n",
              "      <td>114.0</td>\n",
              "    </tr>\n",
              "    <tr>\n",
              "      <th>112</th>\n",
              "      <td>2317</td>\n",
              "      <td>2021/2/5</td>\n",
              "      <td>113.5</td>\n",
              "    </tr>\n",
              "  </tbody>\n",
              "</table>\n",
              "</div>"
            ],
            "text/plain": [
              "     company      date  price\n",
              "116     2317  2021/2/1  113.0\n",
              "115     2317  2021/2/2  116.5\n",
              "114     2317  2021/2/3  116.5\n",
              "113     2317  2021/2/4  114.0\n",
              "112     2317  2021/2/5  113.5"
            ]
          },
          "metadata": {
            "tags": []
          },
          "execution_count": 82
        }
      ]
    },
    {
      "cell_type": "markdown",
      "metadata": {
        "id": "JaDw00V8Z-Lw"
      },
      "source": [
        "## 7. 做預測 (20分)"
      ]
    },
    {
      "cell_type": "code",
      "metadata": {
        "id": "vFf2lmOFElai"
      },
      "source": [
        "# 預測 Test data\n",
        "# 現在我們取出了選定公司最後seq_len天\n",
        "# 我們模型透過讀取seq_len天後預測出seq_len+1天的價格\n",
        "\n",
        "# 將日期保存在datas中 (list)\n",
        "# 將真實價格保存在real_prices中 (list)\n",
        "# 將預測價格保存在pred_prices中 (list) *注: 請填入經過正規化後的價格\n",
        "\n",
        "# input是一個經過**正規化**的真實價格list，請試著遍歷test_company來填滿上述三個list\n",
        "# 可以TextGeneration的generateWords function，概念一樣，但是這次input請全部都填入\"真實價格\"\n",
        "# 但是這次input請append \"真實價格\"\n",
        "# 但是這次input請append \"真實價格\"\n",
        "# 但是這次input請append \"真實價格\"\n",
        "# 但是這次input請append \"真實價格\"\n",
        "# 但是這次input請append \"真實價格\"\n",
        "\n",
        "init_price = company.iloc[-seq_len:,:][\"price\"].values\n",
        "dates = []\n",
        "real_prices = []\n",
        "pred_prices = []\n",
        "input = scalar.transform(init_price)\n",
        "# 參考步驟 (在for迴圈中) :\n",
        "for index,row in test_company.iterrows():\n",
        "  # 我已經幫你把real_price和date放入list\n",
        "  real_price = row[\"price\"]\n",
        "  real_prices.append(real_price)\n",
        "  date = row[\"date\"]\n",
        "  dates.append(date)\n",
        "  # 1. 把input轉**維度**成一個新變數next_input丟入model \n",
        "  # input_tf = tf.expand_dims(input[1:],-1)\n",
        "  next_input = tf.reshape(input,shape=[1,seq_len,1])\n",
        "  pred = model.predict(next_input)\n",
        "  # 2. 獲得的pred取出seq中最後一個時間點的output數值 (提示: [0,-1,0])\n",
        "  pred = tf.reshape(pred,shape=[seq_len,1])\n",
        "  pred = pred[-1:]\n",
        "  # 3. 把pred丟入pred_prices中\n",
        "  pred = pred.numpy()[0][0]\n",
        "  pred_prices.append(pred)\n",
        "  # 4. 把real_price經過transform_one轉換成小數點並加在input後面\n",
        "  input.append(scalar.transform_one(real_price))\n",
        "  # 5. 保持input長度為seq_len長 (也就是把最前面的數字踢掉)\n",
        "  input = input[-seq_len:]\n",
        "  "
      ],
      "execution_count": 86,
      "outputs": []
    },
    {
      "cell_type": "code",
      "metadata": {
        "id": "1TIRXmjWbbXq",
        "colab": {
          "base_uri": "https://localhost:8080/"
        },
        "outputId": "baf1c560-cbcd-4e52-b8f3-206d808fa437"
      },
      "source": [
        "print(f\"dates : {dates[:10]}\")\n",
        "print(f\"real_prices : {real_prices[:10]}\")\n",
        "print(f\"pred_prices : {pred_prices[:10]}\")\n"
      ],
      "execution_count": null,
      "outputs": [
        {
          "output_type": "stream",
          "text": [
            "dates : ['2021/2/1', '2021/2/2', '2021/2/3', '2021/2/4', '2021/2/5', '2021/2/17', '2021/2/18', '2021/2/19', '2021/2/22', '2021/2/23']\n",
            "real_prices : [113.0, 116.5, 116.5, 114.0, 113.5, 114.0, 113.0, 110.0, 111.0, 111.5]\n",
            "pred_prices : [0.8468866, 0.8497307, 0.894608, 0.8980013, 0.8637119, 0.8535847, 0.8587528, 0.8445505, 0.7997994, 0.80815464]\n"
          ],
          "name": "stdout"
        }
      ]
    },
    {
      "cell_type": "markdown",
      "metadata": {
        "id": "cukTAdbxbGKN"
      },
      "source": [
        "* 預期結果:\n",
        "\n",
        "![](https://i.imgur.com/iXdMWD6.png)"
      ]
    },
    {
      "cell_type": "code",
      "metadata": {
        "id": "mAxyVvCsO1Ei",
        "colab": {
          "base_uri": "https://localhost:8080/",
          "height": 537
        },
        "outputId": "c324c908-5b28-4112-c8c8-caba26f8d782"
      },
      "source": [
        "plt.figure(figsize=(16, 8))\n",
        "l1, = plt.plot(dates,real_prices)\n",
        "l2, = plt.plot(dates,scalar.recover(pred_prices))\n",
        "plt.xticks(list(include_last_iter(0,len(dates),3)),rotation=30)\n",
        "plt.legend(handles=[l1,l2],labels=['Real','Pred'],loc='best')\n",
        "plt.title(companys[str(company_id)])\n",
        "plt.xlabel(\"Date\")\n",
        "plt.ylabel(\"price\")\n",
        "plt.show()"
      ],
      "execution_count": null,
      "outputs": [
        {
          "output_type": "display_data",
          "data": {
            "image/png": "[encoded data removed]",
            "text/plain": [
              "<Figure size 1152x576 with 1 Axes>"
            ]
          },
          "metadata": {
            "tags": [],
            "needs_background": "light"
          }
        }
      ]
    },
    {
      "cell_type": "markdown",
      "metadata": {
        "id": "zXrQ1B1majO2"
      },
      "source": [
        "* 預期成果\n",
        "\n",
        "照理來說不會100%猜中，猜中幾乎100%可能是不小心偷看答案了。\n",
        "\n",
        "不過要是你的模型正確的話，應該會看到如下pred price在true price附近而不是躺在地上。\n",
        "\n",
        "![](https://i.imgur.com/tFoKEyK.png)"
      ]
    },
    {
      "cell_type": "code",
      "metadata": {
        "id": "MfTyTnnLuzGU"
      },
      "source": [
        ""
      ],
      "execution_count": null,
      "outputs": []
    }
  ]
}