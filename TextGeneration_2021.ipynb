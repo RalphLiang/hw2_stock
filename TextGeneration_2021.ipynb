{
  "nbformat": 4,
  "nbformat_minor": 0,
  "metadata": {
    "accelerator": "GPU",
    "colab": {
      "name": "TextGeneration_梁藝鐘.ipynb",
      "provenance": [],
      "collapsed_sections": []
    },
    "kernelspec": {
      "display_name": "Python 3",
      "name": "python3"
    }
  },
  "cells": [
    {
      "cell_type": "markdown",
      "metadata": {
        "id": "wRBvwrOM15OY"
      },
      "source": [
        "<img src=\"https://i.imgur.com/12tfKrD.png\" alt=\"Alin\">\n",
        "</img>\n",
        "\n",
        "\n",
        "# Demo RNN -- 張愛玲散文集AI二次創作\n",
        "\n",
        "資料集: 張愛玲繁體中文小說 《傳奇》\n",
        "\n",
        "爬蟲來源: [crawl_book](https://colab.research.google.com/drive/1f_HvQEvgkJPFc473TlA-I_3EmkThA2SR?usp=sharing)\n",
        "\n",
        "程式碼參考: [Tensorflow](https://www.tensorflow.org/tutorials/text/text_generation)\n",
        "\n",
        "本次資料集，著作權乃是張愛玲女士所擁有。**請勿將本次資料集散播、更改、用於非商業用途**。\n",
        "\n",
        "> **資料集說明**\n",
        "\n",
        "今年是張愛玲女士101年誕辰。張愛玲出生名門，曾就讀於香港大學和聖約翰大學，受過良好的中西教育。上海淪陷時期，陸續發表《沉香屑·第一爐香》、《傾城之戀》、《心經》、《金鎖記》等中、短篇小說，震動上海文壇。\n",
        "\n",
        "這次訓練取張愛玲散文集《傳奇》作為訓練，《傳奇》收留五篇散文: 「留情」、「鴻鸞禧」、「紅玫瑰與白玫瑰」、「等」、「桂花蒸阿小悲秋」。其中以「紅玫瑰與白玫瑰」最為膾炙人口。\n",
        "\n",
        "> **訓練步驟**\n",
        "\n",
        "深度學習在訓練模型上有以下幾個重要的步驟:\n",
        "1. 讀入相關封包\n",
        "2. 取得資料集 \n",
        "3. 資料前處理\n",
        "4. 建立模型\n",
        "5. 制定訓練計畫\n",
        "6. 評估模型\n",
        "7. 做預測\n",
        "\n",
        "> **本次模型介紹 RNN**\n",
        "\n",
        "![](https://i.imgur.com/FaY50C8.png)\n",
        "\n",
        "\n",
        "我們來看看維度，很多人會搞不懂RNN的維度:\n",
        "\n",
        "一個Seq通過RNN後的維度\n",
        "\n",
        "* Input: (Seq,${originDim}$)\n",
        "* RNN Neuron: 2048\n",
        "* Output: (Seq,2048) if (return_sequence == True) else (1,2048)\n",
        "![](https://i.imgur.com/9SVl6JR.png)\n",
        "\n",
        "![](https://i.imgur.com/z4ElFIr.png)\n",
        "\n",
        "**把生成問題變成分類問題**\n",
        "\n",
        "![](https://i.imgur.com/TBHKuf6.png)\n"
      ]
    },
    {
      "cell_type": "code",
      "metadata": {
        "id": "HoKPksUD96Mb",
        "colab": {
          "base_uri": "https://localhost:8080/"
        },
        "outputId": "c84ae491-c1db-4330-b6ca-4ac8c92e367d"
      },
      "source": [
        "# ****************************************\n",
        "# **請勿將本次資料集散播、用於非商業用途**\n",
        "# ****************************************\n",
        "\n",
        "# 執行即代表同意將會合法、合理使用資料集\n",
        "\n",
        "!wget -O Eileen_Legendary.txt \"http://140.115.82.54/NN/Recurrent/Eileen_Legendary.txt\""
      ],
      "execution_count": null,
      "outputs": [
        {
          "output_type": "stream",
          "text": [
            "--2021-04-12 02:33:26--  http://140.115.82.54/NN/Recurrent/Eileen_Legendary.txt\n",
            "Connecting to 140.115.82.54:80... connected.\n",
            "HTTP request sent, awaiting response... 200 OK\n",
            "Length: 818352 (799K) [text/plain]\n",
            "Saving to: ‘Eileen_Legendary.txt’\n",
            "\n",
            "Eileen_Legendary.tx 100%[===================>] 799.17K   304KB/s    in 2.6s    \n",
            "\n",
            "2021-04-12 02:33:29 (304 KB/s) - ‘Eileen_Legendary.txt’ saved [818352/818352]\n",
            "\n"
          ],
          "name": "stdout"
        }
      ]
    },
    {
      "cell_type": "markdown",
      "metadata": {
        "id": "_aEUrr67TzFb"
      },
      "source": [
        "## 1. 讀入Package"
      ]
    },
    {
      "cell_type": "code",
      "metadata": {
        "id": "pPCmAo0Q_G3i"
      },
      "source": [
        "import numpy as np\n",
        "import tensorflow as tf\n",
        "import pandas as pd\n",
        "from tensorflow import keras\n",
        "from tensorflow.keras import layers\n",
        "import os\n",
        "import matplotlib.pyplot as plt"
      ],
      "execution_count": null,
      "outputs": []
    },
    {
      "cell_type": "markdown",
      "metadata": {
        "id": "Y550TvUGT9xv"
      },
      "source": [
        "## 2. 取得資料集"
      ]
    },
    {
      "cell_type": "code",
      "metadata": {
        "colab": {
          "base_uri": "https://localhost:8080/"
        },
        "id": "1Mbvzh_9_Tz8",
        "outputId": "bc35f54a-7630-4b8e-9216-84d69ea0f14b"
      },
      "source": [
        "# 作業之一就是試試看其他本小說\n",
        "\n",
        "book = \"\"\n",
        "with open(\"./twodragon.txt\",\"r\",encoding=\"utf8\") as file:\n",
        "  for line in file:\n",
        "    book += line\n",
        "\n",
        "book_length = len(book)\n",
        "unique_words = set(book)\n",
        "print(f\"黃易 的 大唐雙龍傳 共有 {book_length} 字詞\")\n",
        "print(f\"包含了 {len(unique_words)} 個獨一無二的字 (含標點符號)\\n\")\n",
        "print(book[0:500])"
      ],
      "execution_count": null,
      "outputs": [
        {
          "output_type": "stream",
          "text": [
            "黃易 的 大唐雙龍傳 共有 930941 字詞\n",
            "包含了 3991 個獨一無二的字 (含標點符號)\n",
            "\n",
            "\n",
            "《二○一七年一月六日版》\n",
            "《好讀書櫃》典藏版\n",
            "卷四十九 第一章 矛盾之爭\n",
            "寇仲和徐子陵的震駭是有理由的，因為這是他們最害怕的事。上趟到長安尋找楊公寶庫，如被揭破，還可與高占道等人立即撤走，可是今趟卻是牽連廣泛，榮達大押的陳甫等人固是首當其衝，追查起來，平遙的歐良材等人亦難免禍。且際此李淵正深忌李世民的當兒，可能李靖也將有難，所以他們於此時分看到窗外的婠婠，立即三魂不齊，七魄不整。\n",
            "在這方面的掩飾，他們非常小心，用盡手段，想不到終被婠婠識破，最糟是直到此刻他們仍不曉得漏子出在那裏？更聯想到婠婠既可如此，暗伺在旁的石之軒自可辦到。兩人頭皮發麻，啞口無言時，婠婠從窗外飄進來，毫不客氣的坐到床端，嘴角含春的道：「兩位情郎好！你們的考慮有結果嗎？」\n",
            "寇仲正面向著她，深吸一口氣以舒緩震駭波動的情緒，沉聲道：「妳是怎樣發覺的？」徐子陵改變坐姿，雙目電射婠婠，心忖現在唯一的解決辦法，就是希望婠婠乃唯一曉得「司徒福榮計劃」的人，然後合兩人之力不擇手段拚著受傷來個殺人滅口，否則以後會被她牽著鼻子走。他肯定寇仲心中轉的是同一念頭，他不知道寇仲能否狠下此心，卻知自己肯定辦不到。\n",
            "婠婠香肩微聳，輕鬆的道：「百\n"
          ],
          "name": "stdout"
        }
      ]
    },
    {
      "cell_type": "markdown",
      "metadata": {
        "id": "Anv0UglDUQk2"
      },
      "source": [
        "## 3. 資料前處理\n",
        "\n",
        "文字前處理有一堆方法、作法:\n",
        "* 切字\n",
        "* 還原\n",
        "* 清除特殊字符\n",
        "* 清除不常見字符 (StopWord)\n",
        "\n",
        "\n",
        "我這裡僅使用去除不常見的字(StopWord)"
      ]
    },
    {
      "cell_type": "code",
      "metadata": {
        "id": "tQDQ8hxBEa6d"
      },
      "source": [
        "# 計算字數統計\n",
        "words_count = {}\n",
        "for w in book:\n",
        "  if w in words_count:\n",
        "    words_count[w] += 1\n",
        "  else:\n",
        "    words_count[w] = 1\n",
        "\n",
        "words_count = sorted(words_count.items(),key=lambda x:x[1])"
      ],
      "execution_count": null,
      "outputs": []
    },
    {
      "cell_type": "code",
      "metadata": {
        "colab": {
          "base_uri": "https://localhost:8080/"
        },
        "id": "VT90O679Fe0T",
        "outputId": "b3195ce0-0cce-4f40-c618-a497346023c1"
      },
      "source": [
        "stop_word = 8\n",
        "unique_words = [w_tup[0] for w_tup in words_count if w_tup[1]>stop_word]\n",
        "print(f\"去除次數小於{stop_word}的文字剩餘 : {len(unique_words)}\")"
      ],
      "execution_count": null,
      "outputs": [
        {
          "output_type": "stream",
          "text": [
            "去除次數小於8的文字剩餘 : 2634\n"
          ],
          "name": "stdout"
        }
      ]
    },
    {
      "cell_type": "code",
      "metadata": {
        "colab": {
          "base_uri": "https://localhost:8080/"
        },
        "id": "e_uP5gOVIy2K",
        "outputId": "4ede0143-d319-4bab-b375-546c057ae287"
      },
      "source": [
        "print(f\"原本 大唐雙龍傳 共有 {book_length} 字詞\")\n",
        "print(f\"去除不常出現的文字後\")\n",
        "book = [w for w in book if w in unique_words]\n",
        "print(f\"剩餘{len(book)}個字\")"
      ],
      "execution_count": null,
      "outputs": [
        {
          "output_type": "stream",
          "text": [
            "原本 大唐雙龍傳 共有 930941 字詞\n",
            "去除不常出現的文字後\n",
            "剩餘926576個字\n"
          ],
          "name": "stdout"
        }
      ]
    },
    {
      "cell_type": "code",
      "metadata": {
        "colab": {
          "base_uri": "https://localhost:8080/"
        },
        "id": "6LP0BwFDAmcS",
        "outputId": "36ffb85c-6959-4904-862a-267ebeab440f"
      },
      "source": [
        "# 文字轉數字(index)\n",
        "word_2_index = {word:index for index,word in enumerate(unique_words)}\n",
        "index_2_word = {word_2_index[word]:word for word in word_2_index}\n",
        "\n",
        "book_2_index = [word_2_index[w] for w in book]\n",
        "\n",
        "print(\"原始文字 : \")\n",
        "print(book[:40])\n",
        "print(\"-\"*40)\n",
        "print(\"轉成index : \")\n",
        "print({word_2_index[w] for w in book[:40]})"
      ],
      "execution_count": null,
      "outputs": [
        {
          "output_type": "stream",
          "text": [
            "原始文字 : \n",
            "['\\n', '《', '二', '一', '七', '年', '一', '月', '六', '日', '》', '\\n', '《', '好', '讀', '書', '櫃', '》', '典', '藏', '\\n', '卷', '四', '十', '九', '第', '一', '章', '矛', '盾', '之', '爭', '\\n', '寇', '仲', '和', '徐', '子', '陵', '的']\n",
            "----------------------------------------\n",
            "轉成index : \n",
            "{386, 2564, 1808, 1428, 2335, 420, 2088, 2602, 2606, 2609, 1075, 2612, 2615, 2616, 2618, 957, 2622, 2624, 2246, 1863, 2632, 2122, 1867, 2007, 862, 2400, 1507, 1508, 1765, 2284, 2291, 2167, 2170}\n"
          ],
          "name": "stdout"
        }
      ]
    },
    {
      "cell_type": "code",
      "metadata": {
        "id": "H-KDv4kqgxLH"
      },
      "source": [
        "def ind2word_seq(seq):\n",
        "  return [index_2_word[i] for i in seq]"
      ],
      "execution_count": null,
      "outputs": []
    },
    {
      "cell_type": "code",
      "metadata": {
        "colab": {
          "base_uri": "https://localhost:8080/"
        },
        "id": "_aDyjJymDmVv",
        "outputId": "56a3b562-73b2-4d9f-cb07-6f109c2f3302"
      },
      "source": [
        "# 設定輸入模型長度\n",
        "seq_len = 20\n",
        "characters = tf.data.Dataset.from_tensor_slices(book_2_index)\n",
        "# characters = characters.map(lambda w:word_2_index[w.item()])\n",
        "\n",
        "sequences = characters.batch(seq_len+1,drop_remainder=True)\n",
        "\n",
        "for seq in sequences.take(2):\n",
        "  print(seq.shape)\n",
        "  print(seq)\n",
        "  print([index_2_word[i] for i in seq.numpy()])"
      ],
      "execution_count": null,
      "outputs": [
        {
          "output_type": "stream",
          "text": [
            "(21,)\n",
            "tf.Tensor(\n",
            "[2622 1507 2284 2624 1428 2167 2624 2170 1808 2246 1508 2622 1507 2564\n",
            "  386 1863  420 1508  862 2007 2622], shape=(21,), dtype=int32)\n",
            "['\\n', '《', '二', '一', '七', '年', '一', '月', '六', '日', '》', '\\n', '《', '好', '讀', '書', '櫃', '》', '典', '藏', '\\n']\n",
            "(21,)\n",
            "tf.Tensor(\n",
            "[1075 2335 2400 2122 2088 2624  957 1867 1765 2606 2291 2622 2616 2615\n",
            " 2602 2609 2618 2612 2632 2216 1497], shape=(21,), dtype=int32)\n",
            "['卷', '四', '十', '九', '第', '一', '章', '矛', '盾', '之', '爭', '\\n', '寇', '仲', '和', '徐', '子', '陵', '的', '震', '駭']\n"
          ],
          "name": "stdout"
        }
      ]
    },
    {
      "cell_type": "markdown",
      "metadata": {
        "id": "1-dxqFkd7RU1"
      },
      "source": [
        "![](https://i.imgur.com/YMVMFEJ.png)\n"
      ]
    },
    {
      "cell_type": "code",
      "metadata": {
        "colab": {
          "base_uri": "https://localhost:8080/"
        },
        "id": "jhFC16MdLONw",
        "outputId": "d8ef69a6-37fa-4fc8-d133-f0853c7b10ee"
      },
      "source": [
        "# 做input、target切割\n",
        "def split_input_target(seq):\n",
        "  input_txt = seq[:-1]\n",
        "  target_txt = seq[1:]\n",
        "  return input_txt,target_txt\n",
        "\n",
        "split_input_target(list(\"Tensorflow\"))"
      ],
      "execution_count": null,
      "outputs": [
        {
          "output_type": "execute_result",
          "data": {
            "text/plain": [
              "(['T', 'e', 'n', 's', 'o', 'r', 'f', 'l', 'o'],\n",
              " ['e', 'n', 's', 'o', 'r', 'f', 'l', 'o', 'w'])"
            ]
          },
          "metadata": {
            "tags": []
          },
          "execution_count": 37
        }
      ]
    },
    {
      "cell_type": "markdown",
      "metadata": {
        "id": "F-O91DUM_uYV"
      },
      "source": [
        "![](https://i.imgur.com/YoHWLkf.png)\n"
      ]
    },
    {
      "cell_type": "code",
      "metadata": {
        "colab": {
          "base_uri": "https://localhost:8080/"
        },
        "id": "qnJ4Bdj2gZ1V",
        "outputId": "299f1093-3688-4e37-c9ad-f37372f3ab58"
      },
      "source": [
        "dataset = sequences.map(split_input_target)\n",
        "\n",
        "for input_example,target_exaple in dataset.take(1):\n",
        "  print(\"Input :\", ind2word_seq(input_example.numpy()))\n",
        "  print(\"Target:\", ind2word_seq(target_exaple.numpy()))\n",
        "  print(\"-\"*50)\n",
        "  print(\"Input :\", input_example.numpy())\n",
        "  print(\"Target:\", target_exaple.numpy())"
      ],
      "execution_count": null,
      "outputs": [
        {
          "output_type": "stream",
          "text": [
            "Input : ['\\n', '《', '二', '一', '七', '年', '一', '月', '六', '日', '》', '\\n', '《', '好', '讀', '書', '櫃', '》', '典', '藏']\n",
            "Target: ['《', '二', '一', '七', '年', '一', '月', '六', '日', '》', '\\n', '《', '好', '讀', '書', '櫃', '》', '典', '藏', '\\n']\n",
            "--------------------------------------------------\n",
            "Input : [2622 1507 2284 2624 1428 2167 2624 2170 1808 2246 1508 2622 1507 2564\n",
            "  386 1863  420 1508  862 2007]\n",
            "Target: [1507 2284 2624 1428 2167 2624 2170 1808 2246 1508 2622 1507 2564  386\n",
            " 1863  420 1508  862 2007 2622]\n"
          ],
          "name": "stdout"
        }
      ]
    },
    {
      "cell_type": "code",
      "metadata": {
        "colab": {
          "base_uri": "https://localhost:8080/"
        },
        "id": "UNivSh2Igr2-",
        "outputId": "a421ffd3-133c-46d1-c161-038e2811b0af"
      },
      "source": [
        "# 建立資料集\n",
        "# Batch size\n",
        "BATCH_SIZE = 64\n",
        "\n",
        "BUFFER_SIZE = 10000\n",
        "\n",
        "dataset = (\n",
        "    dataset\n",
        "    .shuffle(BUFFER_SIZE)\n",
        "    .batch(BATCH_SIZE, drop_remainder=True))\n",
        "\n",
        "dataset"
      ],
      "execution_count": null,
      "outputs": [
        {
          "output_type": "execute_result",
          "data": {
            "text/plain": [
              "<BatchDataset shapes: ((64, 20), (64, 20)), types: (tf.int32, tf.int32)>"
            ]
          },
          "metadata": {
            "tags": []
          },
          "execution_count": 39
        }
      ]
    },
    {
      "cell_type": "markdown",
      "metadata": {
        "id": "xcDWKSbYUWWB"
      },
      "source": [
        "## 4. 建立模型\n",
        "\n",
        "![](https://i.imgur.com/TBHKuf6.png)"
      ]
    },
    {
      "cell_type": "code",
      "metadata": {
        "colab": {
          "base_uri": "https://localhost:8080/"
        },
        "id": "UkRcSZAHnxlk",
        "outputId": "5cd13b35-2194-4b1b-8901-bc8a3c683f5b"
      },
      "source": [
        "# 超參數\n",
        "EMBEDDING_DIM = 512\n",
        "\n",
        "# 使用 keras 建立一個非常簡單的 LSTM 模型\n",
        "model = tf.keras.Sequential()\n",
        "\n",
        "model.add(\n",
        "  tf.keras.layers.Embedding(\n",
        "    input_dim=len(unique_words), \n",
        "    output_dim=EMBEDDING_DIM\n",
        "))\n",
        "\n",
        "model.add(\n",
        "  tf.keras.layers.LSTM(\n",
        "    units=4096, \n",
        "    return_sequences=True, \n",
        "))\n",
        "\n",
        "model.add(\n",
        "  tf.keras.layers.LSTM(\n",
        "    units=2048, \n",
        "    return_sequences=True,\n",
        "))\n",
        "  \n",
        "model.add(\n",
        "  tf.keras.layers.Dense(\n",
        "      len(unique_words),activation=\"softmax\"))\n",
        "\n",
        "model.summary()"
      ],
      "execution_count": null,
      "outputs": [
        {
          "output_type": "stream",
          "text": [
            "Model: \"sequential_1\"\n",
            "_________________________________________________________________\n",
            "Layer (type)                 Output Shape              Param #   \n",
            "=================================================================\n",
            "embedding_1 (Embedding)      (None, None, 512)         1348608   \n",
            "_________________________________________________________________\n",
            "lstm_2 (LSTM)                (None, None, 4096)        75513856  \n",
            "_________________________________________________________________\n",
            "lstm_3 (LSTM)                (None, None, 2048)        50339840  \n",
            "_________________________________________________________________\n",
            "dense_1 (Dense)              (None, None, 2634)        5397066   \n",
            "=================================================================\n",
            "Total params: 132,599,370\n",
            "Trainable params: 132,599,370\n",
            "Non-trainable params: 0\n",
            "_________________________________________________________________\n"
          ],
          "name": "stdout"
        }
      ]
    },
    {
      "cell_type": "code",
      "metadata": {
        "colab": {
          "base_uri": "https://localhost:8080/"
        },
        "id": "YKiszF5doFGz",
        "outputId": "483de790-7e68-49dd-b094-188ddca38d5b"
      },
      "source": [
        "# 查看模型的輸入、輸出 shape\n",
        "for input_example,target_exaple in dataset.take(1):\n",
        "  predict_example = model(input_example)\n",
        "  print(f\"Model input shape : {input_example.shape}\")\n",
        "  print(f\"Model output shape : {predict_example.shape}\")\n",
        "  print(f\"Model target shape : {target_exaple.shape}\")"
      ],
      "execution_count": null,
      "outputs": [
        {
          "output_type": "stream",
          "text": [
            "Model input shape : (64, 20)\n",
            "Model output shape : (64, 20, 2634)\n",
            "Model target shape : (64, 20)\n"
          ],
          "name": "stdout"
        }
      ]
    },
    {
      "cell_type": "code",
      "metadata": {
        "colab": {
          "base_uri": "https://localhost:8080/"
        },
        "id": "CsN6Zz4NReV4",
        "outputId": "53a48d3f-ef81-4fe4-ff2c-38c95a7c64d3"
      },
      "source": [
        "print(\"原本的中文字序列：\")\n",
        "[print(index_2_word[ind],end=\"\") for ind in input_example[0].numpy()]\n",
        "print()\n",
        "print(\"-\"*40)\n",
        "print(\"輸入尚未訓練的model後獲得：\")\n",
        "print()\n",
        "\n",
        "predict_words = tf.math.argmax(predict_example[0],-1)\n",
        "[print(index_2_word[ind],end=\"\") for ind in predict_words.numpy()]\n",
        "print()"
      ],
      "execution_count": null,
      "outputs": [
        {
          "output_type": "stream",
          "text": [
            "原本的中文字序列：\n",
            "次馳想幽林小谷是怎樣一處人間勝地，直至此\n",
            "----------------------------------------\n",
            "輸入尚未訓練的model後獲得：\n",
            "\n",
            "德童童童童癸癸癸癸癸愁愁袍袍遞流虛秀秀秀\n"
          ],
          "name": "stdout"
        }
      ]
    },
    {
      "cell_type": "markdown",
      "metadata": {
        "id": "peEbrfDrUfuz"
      },
      "source": [
        "## 5. 制定訓練計畫並訓練\n",
        "\n",
        "* [sparse_categorical_crossentropy](https://www.tensorflow.org/api_docs/python/tf/keras/losses/sparse_categorical_crossentropy) V.S. [categorical_crossentropy](https://www.tensorflow.org/api_docs/python/tf/keras/losses/categorical_crossentropy)\n",
        "\n",
        "```python=\n",
        "# categorical_crossentropy\n",
        "y_true = [[0, 1, 0], [0, 0, 1]]\n",
        "y_pred = [[0.05, 0.95, 0], [0.1, 0.8, 0.1]]\n",
        "assert loss.shape == (2,)\n",
        "\n",
        "# sparse_categorical_crossentropy\n",
        "y_true = [1, 2]\n",
        "y_pred = [[0.05, 0.95, 0], [0.1, 0.8, 0.1]]\n",
        "assert loss.shape == (2,)\n",
        "\n",
        "```\n"
      ]
    },
    {
      "cell_type": "code",
      "metadata": {
        "id": "unPfQAQBonFj"
      },
      "source": [
        "model.compile(loss=\"sparse_categorical_crossentropy\",optimizer=\"adam\")"
      ],
      "execution_count": null,
      "outputs": []
    },
    {
      "cell_type": "code",
      "metadata": {
        "colab": {
          "base_uri": "https://localhost:8080/"
        },
        "id": "5IW5xiiMpJhJ",
        "outputId": "594b9aeb-9e63-4a4e-86d6-f6debb0af180"
      },
      "source": [
        "EPOCHS = 20\n",
        "history = model.fit(\n",
        "    dataset, # 前面使用 tf.data 建構的資料集\n",
        "    epochs=EPOCHS,\n",
        ")"
      ],
      "execution_count": null,
      "outputs": [
        {
          "output_type": "stream",
          "text": [
            "Epoch 1/20\n",
            "689/689 [==============================] - 249s 358ms/step - loss: 6.0378\n",
            "Epoch 2/20\n",
            "689/689 [==============================] - 247s 358ms/step - loss: 4.7095\n",
            "Epoch 3/20\n",
            "689/689 [==============================] - 247s 359ms/step - loss: 4.2271\n",
            "Epoch 4/20\n",
            "689/689 [==============================] - 247s 359ms/step - loss: 3.8979\n",
            "Epoch 5/20\n",
            "689/689 [==============================] - 247s 358ms/step - loss: 3.6023\n",
            "Epoch 6/20\n",
            "689/689 [==============================] - 247s 358ms/step - loss: 3.3088\n",
            "Epoch 7/20\n",
            "689/689 [==============================] - 247s 359ms/step - loss: 2.9840\n",
            "Epoch 8/20\n",
            "689/689 [==============================] - 247s 359ms/step - loss: 2.6185\n",
            "Epoch 9/20\n",
            "689/689 [==============================] - 247s 359ms/step - loss: 2.2152\n",
            "Epoch 10/20\n",
            "689/689 [==============================] - 247s 358ms/step - loss: 1.7870\n",
            "Epoch 11/20\n",
            "689/689 [==============================] - 247s 359ms/step - loss: 1.3720\n",
            "Epoch 12/20\n",
            "689/689 [==============================] - 247s 359ms/step - loss: 1.0066\n",
            "Epoch 13/20\n",
            "689/689 [==============================] - 247s 359ms/step - loss: 0.7343\n",
            "Epoch 14/20\n",
            "689/689 [==============================] - 247s 359ms/step - loss: 0.5606\n",
            "Epoch 15/20\n",
            "689/689 [==============================] - 247s 359ms/step - loss: 0.4684\n",
            "Epoch 16/20\n",
            "689/689 [==============================] - 247s 359ms/step - loss: 0.4228\n",
            "Epoch 17/20\n",
            "689/689 [==============================] - 247s 359ms/step - loss: 0.4027\n",
            "Epoch 18/20\n",
            "689/689 [==============================] - 247s 359ms/step - loss: 0.3920\n",
            "Epoch 19/20\n",
            "689/689 [==============================] - 247s 359ms/step - loss: 0.3877\n",
            "Epoch 20/20\n",
            "689/689 [==============================] - 247s 359ms/step - loss: 0.3823\n"
          ],
          "name": "stdout"
        }
      ]
    },
    {
      "cell_type": "markdown",
      "metadata": {
        "id": "J-DD-OibUj64"
      },
      "source": [
        "## 6. 衡量模型"
      ]
    },
    {
      "cell_type": "code",
      "metadata": {
        "id": "xxbK80fXpOWD",
        "colab": {
          "base_uri": "https://localhost:8080/",
          "height": 295
        },
        "outputId": "790c3849-2ef3-4ec4-fd43-29646fc76c3a"
      },
      "source": [
        "plt.plot(history.history['loss'])\n",
        "plt.title('model loss')\n",
        "plt.ylabel('loss')\n",
        "plt.xlabel('epoch')\n",
        "\n",
        "plt.show()"
      ],
      "execution_count": null,
      "outputs": [
        {
          "output_type": "display_data",
          "data": {
            "image/png": "[encoded data removed]",
            "text/plain": [
              "<Figure size 432x288 with 1 Axes>"
            ]
          },
          "metadata": {
            "tags": [],
            "needs_background": "light"
          }
        }
      ]
    },
    {
      "cell_type": "code",
      "metadata": {
        "colab": {
          "base_uri": "https://localhost:8080/"
        },
        "id": "A3elbMNg4z4N",
        "outputId": "8e3c15c2-7886-48ac-f915-52c3877b085e"
      },
      "source": [
        "after_train_predictions = model(input_example)\n",
        "after_sampled_indices = tf.argmax(after_train_predictions[0],1)\n",
        "\n",
        "print(\"原本的中文字序列：\")\n",
        "[print(index_2_word[ind],end=\"\") for ind in input_example[0].numpy()]\n",
        "print()\n",
        "print(\"-\"*40)\n",
        "print(\"輸入進訓練後的model後獲得：\")\n",
        "print()\n",
        "\n",
        "[print(index_2_word[ind],end=\"\") for ind in after_sampled_indices.numpy()]\n",
        "print()"
      ],
      "execution_count": null,
      "outputs": [
        {
          "output_type": "stream",
          "text": [
            "原本的中文字序列：\n",
            "次馳想幽林小谷是怎樣一處人間勝地，直至此\n",
            "----------------------------------------\n",
            "輸入進訓練後的model後獲得：\n",
            "\n",
            "見想幽林小谷是怎樣一處人間勝地，直至此刻\n"
          ],
          "name": "stdout"
        }
      ]
    },
    {
      "cell_type": "markdown",
      "metadata": {
        "id": "v-ZgfcpVUpbc"
      },
      "source": [
        "## 7. 做預測\n",
        "\n",
        "![](https://i.imgur.com/YsOj6Mw.png)\n",
        "\n",
        "在實際生成文字時，我們會想要增加一些隨機性。比如”天天出去” 不加入隨機 “天天天天” 如果我們全部輸出的字都是取softmax最大可能性，則一個訓練完美的model會把整本書給輸出出來。但是我們要的是，希望電腦在最大可能性的幾個字中隨機挑選一個字出來。\n",
        "\n",
        "tf.random.categorical 會根據softmax機率後隨機挑選字，但是我們不希望因為模型很爛導致不合理的字被選中，因此我們會除上一個temperature來增加可能字的比重。\n",
        "\n",
        "EX: \"天天出去\" 預測下一個字\n",
        "1. 玩 : 0.3 \n",
        "2. 天 : 0.1 \n",
        "3. 浪 : 0.4 \n",
        "\n",
        "\"天\"有的機率被印出，我們不希望。所以我們可以在每一個機率除上一個temperature(0.01)\n",
        "1. 玩 : 30 \n",
        "2. 天 : 10 \n",
        "3. 浪 : 40 \n",
        "原本\"浪\"跟\"天\"差0.3，除temperature後差30\n",
        "\n"
      ]
    },
    {
      "cell_type": "code",
      "metadata": {
        "id": "b3ryhOIg4-qB"
      },
      "source": [
        "# 預測文字，並把預測文字循環當作下一次的輸入\n",
        "\n",
        "# 設定你的temperature\n",
        "temperature = 0.01\n",
        "\n",
        "def generateWords(input,words=500):\n",
        "  [print(index_2_word[ind],end=\"\") for ind in input]\n",
        "  for i in range(words):\n",
        "    next_input = tf.expand_dims(input,axis=0)\n",
        "    predicts = model(next_input)\n",
        "    predicts = predicts[:,-1,:]\n",
        "    predicts /= temperature\n",
        "    result = tf.random.categorical(\n",
        "        predicts,num_samples=1\n",
        "    )\n",
        "    chinese_ind = tf.squeeze(result).numpy()\n",
        "    print(index_2_word[chinese_ind],end=\"\")\n",
        "    input = input+[chinese_ind]\n",
        "    input = input[-seq_len:]"
      ],
      "execution_count": null,
      "outputs": []
    },
    {
      "cell_type": "code",
      "metadata": {
        "id": "l7ELuAjW3rKW",
        "colab": {
          "base_uri": "https://localhost:8080/"
        },
        "outputId": "151400cb-376c-41bc-a477-f5e9ab2b951a"
      },
      "source": [
        "init_seq = \"石青璇苦笑\"\n",
        "init_seq_ind = [word_2_index[w] for w in init_seq]\n",
        "input = init_seq_ind[-seq_len:]\n",
        "\n",
        "generateWords(input,600)"
      ],
      "execution_count": null,
      "outputs": [
        {
          "output_type": "stream",
          "text": [
            "石青璇苦笑道：「我不是不想當皇帝。」\n",
            "徐子陵一呆道：「竟有此事？」\n",
            "雲玉真點頭道：「我今天雖是一針見血的見老哥，不過這可怕現在既然對方絕無的事。」\n",
            "寇仲道：「我們亦有一件事請你幫忙。」\n",
            "沈落雁撫著胸口，一手一字道：「他怎能不付楊虛彥？」\n",
            "侯希白笑道：「我和子陵因何欲意見雷大哥，老天爺仍一命去見她。」徐子陵欣然道：「難怪子陵會告訴我她，卻是你的情況。」寇仲欣然道：「難怪子陵剛才大叫不好。」\n",
            "寇仲信心十足的道：「我們是否真的對這裏來？」\n",
            "徐子陵道：「我們可經由水路往一塊兒送送你們，到那裏去？」\n",
            "跋鋒寒失聲道：「我今晚來，是要代李世民說服他？」跋鋒寒頹然道：「這叫愛夫情切嘛！」\n",
            "徐子陵立即精神大振，道：「這方面朕交由少帥全權負責，應是塞外聯軍南下的非常時期，從軍事角度考慮，李世民閉上帝位。」\n",
            "寇仲向韋公公道：「有甚麼好打算？」\n",
            "劉黑闥沉聲道：「我要去見李世民。」\n",
            "寇仲大吃一驚道：「喜兒妳尚未有意中人嗎？」陰顯鶴老臉通紅的道：「她不是說過的嗎？」\n",
            "傅君瑜淡淡道：「若我沒有猜錯，傅采林是否要到長安來？」徐子陵笑道：「你有把握穿透對方的人，我會盡力而為，好卻好！我們今趟來是要全力運作出來的軍事行動，你們怎可如此魯莽，難道不曉得大唐宮中人殺人，且是默許建成、元吉的人，所以能對任何人更清楚答案。\n",
            "沈落雁細審他神色，黛眉輕蹙道：「大帥曉得此人叫要看醒，若是福榮爺的人。」\n",
            "頓頓續道：「我曾為劉弘基方面都沒有問題"
          ],
          "name": "stdout"
        }
      ]
    },
    {
      "cell_type": "markdown",
      "metadata": {
        "id": "i-_4vCX4e3ZA"
      },
      "source": [
        "## 作業2.1 (30%)\n",
        "\n",
        "使用[爬蟲程式](https://colab.research.google.com/drive/1f_HvQEvgkJPFc473TlA-I_3EmkThA2SR?usp=sharing)來取得一個新的文本資料集，或是不管你從哪裡取得的資料集也可以(不要再張愛玲了，不限中英文)。然後丟入這個模型來看看AI生成文字的成果，將**結果**與**你的心得**(不是機器產生的心得)，貼上pdf。\n",
        "\n",
        "請隨意修改本colab的模型與參數來達到更好的結果。\n",
        "\n",
        "資料集越有趣越好，比如你可以去爬PTT文章來製作廢文產生器。去爬Dcard製作幻想文產生器。"
      ]
    }
  ]
}